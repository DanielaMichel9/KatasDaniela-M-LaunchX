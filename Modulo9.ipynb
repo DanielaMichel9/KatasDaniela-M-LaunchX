{
 "cells": [
  {
   "cell_type": "code",
   "execution_count": 1,
   "metadata": {},
   "outputs": [
    {
     "name": "stdout",
     "output_type": "stream",
     "text": [
      "Informe de tanques\n",
      "    --------------------\n",
      "    tanque 1 esta al 80%\n",
      "    tanque 2 esta al 70%\n",
      "    Tanque 3 esta al 50%\n",
      "    El promedio de los tanques es de: 66 %\n"
     ]
    }
   ],
   "source": [
    "def lectura(tanque1, tanque2, tanque3):\n",
    "    return f\"\"\"Informe de tanques\n",
    "    --------------------\n",
    "    tanque 1 esta al {tanque1}%\n",
    "    tanque 2 esta al {tanque2}%\n",
    "    Tanque 3 esta al {tanque3}%\n",
    "    El promedio de los tanques es de: {prom([tanque1,tanque2,tanque3])} %\"\"\"\n",
    "\n",
    "def prom(values):\n",
    "    num_tan = len(values)\n",
    "    suma = sum(values)\n",
    "\n",
    "    return int(suma / num_tan)\n",
    "\n",
    "\n",
    "\n",
    "print(lectura(80,70,50))\n"
   ]
  },
  {
   "cell_type": "code",
   "execution_count": 2,
   "metadata": {},
   "outputs": [
    {
     "name": "stdout",
     "output_type": "stream",
     "text": [
      "\n",
      "    Informe de la nave\n",
      "    --------------\n",
      "    Hora de prelanzamiento: 15:30\n",
      "    Tiempo de vuelo: 15h\n",
      "    Destino de llegada: marte\n",
      "    Tanque externo: 50%\n",
      "    Tanque interno: 70%\n",
      "    \n",
      "\n",
      "    Informe de la nave\n",
      "    --------------\n",
      "    Destino de mision: marte\n",
      "    Tiempo de vuelo: 76 minutos\n",
      "    Total de combustible: 500000\n",
      "    \n",
      "\n",
      "    Informe de la nave\n",
      "    --------------\n",
      "    Destino de la mision: Luna\n",
      "    Timepo de viaje: 105 minutos\n",
      "    Total de combustible: 500000\n",
      "    tanque principal --> conserva 300000 galones\n",
      "tanque externo --> conserva 200000 galones\n",
      "\n"
     ]
    }
   ],
   "source": [
    "def informe_nave(hora_prela, timepo_vuelo,destino, tan_ext, tan_int):\n",
    "    return f\"\"\"\n",
    "    Informe de la nave\n",
    "    --------------\n",
    "    Hora de prelanzamiento: {hora_prela}\n",
    "    Tiempo de vuelo: {timepo_vuelo}\n",
    "    Destino de llegada: {destino}\n",
    "    Tanque externo: {tan_ext}%\n",
    "    Tanque interno: {tan_int}%\n",
    "    \"\"\"\n",
    "\n",
    "print(informe_nave(\"15:30\",\"15h\",\"marte\",50,70))\n",
    "\n",
    "def informe_nave2(destino,*minutos,**tanques):\n",
    "    return f\"\"\"\n",
    "    Informe de la nave\n",
    "    --------------\n",
    "    Destino de mision: {destino}\n",
    "    Tiempo de vuelo: {sum(minutos)} minutos\n",
    "    Total de combustible: {sum(tanques.values())}\n",
    "    \"\"\"\n",
    "\n",
    "print(informe_nave2(\"marte\",10,15,51,principal=300000,externo=200000))\n",
    "def informe_nave3(destino,*minutos,**combustible):\n",
    "    informe = f\"\"\"\n",
    "    Informe de la nave\n",
    "    --------------\n",
    "    Destino de la mision: {destino}\n",
    "    Timepo de viaje: {sum(minutos)} minutos\n",
    "    Total de combustible: {sum(combustible.values())}\n",
    "    \"\"\"\n",
    "    for nom_tan, galones in combustible.items():\n",
    "        informe += f\"\"\"tanque {nom_tan} --> conserva {galones} galones\\n\"\"\"\n",
    "    \n",
    "    return informe\n",
    "\n",
    "\n",
    "print(informe_nave3(\"Luna\",15,20,70,principal=300000,externo=200000))\n"
   ]
  }
 ],
 "metadata": {
  "interpreter": {
   "hash": "104ab0b201326c003eb326b253436127765e9423f74595591084a446732f77fa"
  },
  "kernelspec": {
   "display_name": "Python 3.9.4 64-bit",
   "language": "python",
   "name": "python3"
  },
  "language_info": {
   "codemirror_mode": {
    "name": "ipython",
    "version": 3
   },
   "file_extension": ".py",
   "mimetype": "text/x-python",
   "name": "python",
   "nbconvert_exporter": "python",
   "pygments_lexer": "ipython3",
   "version": "3.9.4"
  },
  "orig_nbformat": 4
 },
 "nbformat": 4,
 "nbformat_minor": 2
}
